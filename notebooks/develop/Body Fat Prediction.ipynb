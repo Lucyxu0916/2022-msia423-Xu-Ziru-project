{
 "cells": [
  {
   "cell_type": "code",
   "execution_count": 4,
   "id": "82c86213",
   "metadata": {},
   "outputs": [],
   "source": [
    "import pandas as pd\n",
    "import matplotlib.pyplot as plt\n",
    "import seaborn as sns\n",
    "\n",
    "from sklearn.preprocessing import StandardScaler\n",
    "from sklearn.model_selection import train_test_split\n",
    "from sklearn.linear_model import LinearRegression"
   ]
  },
  {
   "cell_type": "code",
   "execution_count": 5,
   "id": "be3c4003",
   "metadata": {},
   "outputs": [],
   "source": [
    "bodyfat = pd.read_csv(\"../../data/raw/bodyfat.csv\")"
   ]
  },
  {
   "cell_type": "code",
   "id": "0e804ee4",
   "metadata": {
    "pycharm": {
     "name": "#%%\n"
    }
   },
   "source": [
    "columns = ['Density', 'BodyFat', 'Age', 'Weight', 'Height', 'Neck', 'Chest',\n",
    "           'Abdomen', 'Hip', 'Thigh', 'Knee', 'Ankle', 'Biceps', 'Forearm',\n",
    "           'Wrist']\n",
    "raw= [[1.0502, 20.9, 24., 210.25, 74.75, 39.,\n",
    "             104.5, 94.4, 107.8, 66., 42., 25.6,\n",
    "             35.7, 30.6, 18.8],\n",
    "            [1.0549, 19.2, 26., 181., 69.75, 36.4,\n",
    "             105.1, 90.7, 100.3, 58.4, 38.3, 22.9,\n",
    "             31.9, 27.8, 17.7],\n",
    "            [1.0704, 12.4, 25., 176., 72.5, 37.8,\n",
    "             99.6, 88.5, 97.1, 60., 39.4, 23.2,\n",
    "             30.5, 29., 18.8],\n",
    "            [1.09, 4.1, 25., 191., 30, 38.1,\n",
    "             100.9, 82.5, 99.9, 62.9, 38.3, 23.8,\n",
    "             35.9, 31.1, 18.2],\n",
    "            [1.0722, 11.7, 23., 198.25, 100, 42.1,\n",
    "             99.6, 88.6, 104.1, 63.1, 41.7, 25.,\n",
    "             35.6, 30., 19.2]]\n",
    "data = [[float(d) for d in row] for row in raw]\n",
    "input = pd.DataFrame(data, columns=columns)"
   ],
   "execution_count": 18,
   "outputs": []
  },
  {
   "cell_type": "code",
   "id": "faf1656b",
   "metadata": {
    "pycharm": {
     "name": "#%%\n"
    }
   },
   "source": [
    "def extract_features(data, features_column):\n",
    "    \"\"\" Extract features from dataframe\n",
    "             Args:\n",
    "                data (`:obj:`pd.DataFrame`): Dataframe\n",
    "                features_column(`list` of `str`):  Column names for features\n",
    "             Returns:\n",
    "                features (`:obj:`pd.DataFrame`): Feature dataframe\n",
    "    \"\"\"\n",
    "\n",
    "    features = data[features_column]\n",
    "\n",
    "    return features"
   ],
   "execution_count": 21,
   "outputs": []
  },
  {
   "cell_type": "code",
   "id": "ec25785f",
   "metadata": {
    "pycharm": {
     "name": "#%%\n"
    }
   },
   "source": [
    "initial_features=['Age', 'Weight', 'Height', 'Neck', 'Chest']\n",
    "extract_features(input,features_column=initial_features).values"
   ],
   "execution_count": 23,
   "outputs": [
    {
     "data": {
      "text/plain": "array([[ 24.  , 210.25,  74.75,  39.  , 104.5 ],\n       [ 26.  , 181.  ,  69.75,  36.4 , 105.1 ],\n       [ 25.  , 176.  ,  72.5 ,  37.8 ,  99.6 ],\n       [ 25.  , 191.  ,  30.  ,  38.1 , 100.9 ],\n       [ 23.  , 198.25, 100.  ,  42.1 ,  99.6 ]])"
     },
     "execution_count": 23,
     "metadata": {},
     "output_type": "execute_result"
    }
   ]
  },
  {
   "cell_type": "code",
   "execution_count": 25,
   "id": "828507b4",
   "metadata": {},
   "outputs": [],
   "source": [
    "def extract_target(data, target_column):\n",
    "    \"\"\" Extract features from dataframe\n",
    "             Args:\n",
    "                data (`:obj:`pd.DataFrame`): Dataframe\n",
    "                features_column(`list` of `str`):  Column names for features\n",
    "             Returns:\n",
    "                features (`:obj:`pd.DataFrame`): Feature dataframe\n",
    "    \"\"\"\n",
    "\n",
    "    target = data[target_column]\n",
    "\n",
    "    return target"
   ]
  },
  {
   "cell_type": "code",
   "execution_count": 31,
   "id": "0558a9e4",
   "metadata": {},
   "outputs": [],
   "source": [
    "target='BodyFat'\n",
    "extract_target(input,target).values\n",
    "expected_output = pd.Series([20.9, 19.2, 12.4,  4.1, 11.7], name=target)"
   ]
  },
  {
   "cell_type": "code",
   "execution_count": 33,
   "id": "2fa1897a",
   "metadata": {},
   "outputs": [],
   "source": [
    "df=extract_target(input,target)"
   ]
  },
  {
   "cell_type": "code",
   "execution_count": 34,
   "id": "84514c3f",
   "metadata": {},
   "outputs": [
    {
     "ename": "AssertionError",
     "evalue": "DataFrame Expected type <class 'pandas.core.frame.DataFrame'>, found <class 'pandas.core.series.Series'> instead",
     "output_type": "error",
     "traceback": [
      "\u001B[0;31m---------------------------------------------------------------------------\u001B[0m",
      "\u001B[0;31mAssertionError\u001B[0m                            Traceback (most recent call last)",
      "Input \u001B[0;32mIn [34]\u001B[0m, in \u001B[0;36m<cell line: 1>\u001B[0;34m()\u001B[0m\n\u001B[0;32m----> 1\u001B[0m \u001B[43mpd\u001B[49m\u001B[38;5;241;43m.\u001B[39;49m\u001B[43mtesting\u001B[49m\u001B[38;5;241;43m.\u001B[39;49m\u001B[43massert_frame_equal\u001B[49m\u001B[43m(\u001B[49m\u001B[43mexpected_output\u001B[49m\u001B[43m,\u001B[49m\u001B[43m \u001B[49m\u001B[43mdf\u001B[49m\u001B[43m)\u001B[49m\n\u001B[1;32m      2\u001B[0m SC\u001B[38;5;241m=\u001B[39mStandardScaler()\n\u001B[1;32m      3\u001B[0m X\u001B[38;5;241m=\u001B[39mSC\u001B[38;5;241m.\u001B[39mfit_transform(X)\n",
      "    \u001B[0;31m[... skipping hidden 1 frame]\u001B[0m\n",
      "File \u001B[0;32m/Library/Frameworks/Python.framework/Versions/3.9/lib/python3.9/site-packages/pandas/_testing.py:508\u001B[0m, in \u001B[0;36m_check_isinstance\u001B[0;34m(left, right, cls)\u001B[0m\n\u001B[1;32m    505\u001B[0m cls_name \u001B[38;5;241m=\u001B[39m \u001B[38;5;28mcls\u001B[39m\u001B[38;5;241m.\u001B[39m\u001B[38;5;18m__name__\u001B[39m\n\u001B[1;32m    507\u001B[0m \u001B[38;5;28;01mif\u001B[39;00m \u001B[38;5;129;01mnot\u001B[39;00m \u001B[38;5;28misinstance\u001B[39m(left, \u001B[38;5;28mcls\u001B[39m):\n\u001B[0;32m--> 508\u001B[0m     \u001B[38;5;28;01mraise\u001B[39;00m \u001B[38;5;167;01mAssertionError\u001B[39;00m(\n\u001B[1;32m    509\u001B[0m         \u001B[38;5;124mf\u001B[39m\u001B[38;5;124m\"\u001B[39m\u001B[38;5;132;01m{\u001B[39;00mcls_name\u001B[38;5;132;01m}\u001B[39;00m\u001B[38;5;124m Expected type \u001B[39m\u001B[38;5;132;01m{\u001B[39;00m\u001B[38;5;28mcls\u001B[39m\u001B[38;5;132;01m}\u001B[39;00m\u001B[38;5;124m, found \u001B[39m\u001B[38;5;132;01m{\u001B[39;00m\u001B[38;5;28mtype\u001B[39m(left)\u001B[38;5;132;01m}\u001B[39;00m\u001B[38;5;124m instead\u001B[39m\u001B[38;5;124m\"\u001B[39m\n\u001B[1;32m    510\u001B[0m     )\n\u001B[1;32m    511\u001B[0m \u001B[38;5;28;01mif\u001B[39;00m \u001B[38;5;129;01mnot\u001B[39;00m \u001B[38;5;28misinstance\u001B[39m(right, \u001B[38;5;28mcls\u001B[39m):\n\u001B[1;32m    512\u001B[0m     \u001B[38;5;28;01mraise\u001B[39;00m \u001B[38;5;167;01mAssertionError\u001B[39;00m(\n\u001B[1;32m    513\u001B[0m         \u001B[38;5;124mf\u001B[39m\u001B[38;5;124m\"\u001B[39m\u001B[38;5;132;01m{\u001B[39;00mcls_name\u001B[38;5;132;01m}\u001B[39;00m\u001B[38;5;124m Expected type \u001B[39m\u001B[38;5;132;01m{\u001B[39;00m\u001B[38;5;28mcls\u001B[39m\u001B[38;5;132;01m}\u001B[39;00m\u001B[38;5;124m, found \u001B[39m\u001B[38;5;132;01m{\u001B[39;00m\u001B[38;5;28mtype\u001B[39m(right)\u001B[38;5;132;01m}\u001B[39;00m\u001B[38;5;124m instead\u001B[39m\u001B[38;5;124m\"\u001B[39m\n\u001B[1;32m    514\u001B[0m     )\n",
      "\u001B[0;31mAssertionError\u001B[0m: DataFrame Expected type <class 'pandas.core.frame.DataFrame'>, found <class 'pandas.core.series.Series'> instead"
     ]
    }
   ],
   "source": [
    "pd.testing.assert_frame_equal(expected_output, df_test)\n",
    "SC=StandardScaler()\n",
    "X=SC.fit_transform(X)"
   ]
  },
  {
   "cell_type": "code",
   "execution_count": 20,
   "id": "26a25a5f",
   "metadata": {},
   "outputs": [],
   "source": [
    "X_train, X_test, y_train, y_test = train_test_split( X, y, test_size=0.2, random_state=1)"
   ]
  },
  {
   "cell_type": "code",
   "execution_count": 165,
   "id": "3ceabcde",
   "metadata": {},
   "outputs": [
    {
     "data": {
      "text/plain": [
       "LinearRegression()"
      ]
     },
     "execution_count": 165,
     "metadata": {},
     "output_type": "execute_result"
    }
   ],
   "source": [
    "model_regression = LinearRegression()\n",
    "model_regression.fit(X_train, y_train)"
   ]
  },
  {
   "cell_type": "code",
   "execution_count": 166,
   "id": "959c8035",
   "metadata": {},
   "outputs": [],
   "source": [
    "y_pred = model_regression.predict(X_test)"
   ]
  },
  {
   "cell_type": "code",
   "execution_count": 167,
   "id": "6d52d4ba",
   "metadata": {},
   "outputs": [],
   "source": [
    "from sklearn.metrics import mean_squared_error\n",
    "from sklearn.metrics import mean_absolute_percentage_error"
   ]
  },
  {
   "cell_type": "code",
   "execution_count": 168,
   "id": "d971eb4f",
   "metadata": {},
   "outputs": [
    {
     "data": {
      "text/plain": [
       "5.17880785465027"
      ]
     },
     "execution_count": 168,
     "metadata": {},
     "output_type": "execute_result"
    }
   ],
   "source": [
    "mean_squared_error(y_test, y_pred,squared=False)"
   ]
  },
  {
   "cell_type": "code",
   "execution_count": 169,
   "id": "9d2a8245",
   "metadata": {},
   "outputs": [
    {
     "data": {
      "text/plain": [
       "0.23473583236349874"
      ]
     },
     "execution_count": 169,
     "metadata": {},
     "output_type": "execute_result"
    }
   ],
   "source": [
    "mean_absolute_percentage_error(y_test, y_pred)"
   ]
  },
  {
   "cell_type": "code",
   "execution_count": 170,
   "id": "edf2829b",
   "metadata": {},
   "outputs": [
    {
     "data": {
      "text/html": [
       "<div>\n",
       "<style scoped>\n",
       "    .dataframe tbody tr th:only-of-type {\n",
       "        vertical-align: middle;\n",
       "    }\n",
       "\n",
       "    .dataframe tbody tr th {\n",
       "        vertical-align: top;\n",
       "    }\n",
       "\n",
       "    .dataframe thead th {\n",
       "        text-align: right;\n",
       "    }\n",
       "</style>\n",
       "<table border=\"1\" class=\"dataframe\">\n",
       "  <thead>\n",
       "    <tr style=\"text-align: right;\">\n",
       "      <th></th>\n",
       "      <th>0</th>\n",
       "      <th>1</th>\n",
       "    </tr>\n",
       "  </thead>\n",
       "  <tbody>\n",
       "    <tr>\n",
       "      <th>0</th>\n",
       "      <td>11.378639</td>\n",
       "      <td>8.5</td>\n",
       "    </tr>\n",
       "    <tr>\n",
       "      <th>1</th>\n",
       "      <td>26.713993</td>\n",
       "      <td>31.9</td>\n",
       "    </tr>\n",
       "    <tr>\n",
       "      <th>2</th>\n",
       "      <td>13.900411</td>\n",
       "      <td>19.5</td>\n",
       "    </tr>\n",
       "    <tr>\n",
       "      <th>3</th>\n",
       "      <td>10.313390</td>\n",
       "      <td>17.4</td>\n",
       "    </tr>\n",
       "    <tr>\n",
       "      <th>4</th>\n",
       "      <td>15.658104</td>\n",
       "      <td>9.0</td>\n",
       "    </tr>\n",
       "    <tr>\n",
       "      <th>5</th>\n",
       "      <td>18.828901</td>\n",
       "      <td>14.8</td>\n",
       "    </tr>\n",
       "    <tr>\n",
       "      <th>6</th>\n",
       "      <td>26.293754</td>\n",
       "      <td>25.8</td>\n",
       "    </tr>\n",
       "    <tr>\n",
       "      <th>7</th>\n",
       "      <td>16.373435</td>\n",
       "      <td>22.8</td>\n",
       "    </tr>\n",
       "    <tr>\n",
       "      <th>8</th>\n",
       "      <td>11.902976</td>\n",
       "      <td>8.6</td>\n",
       "    </tr>\n",
       "    <tr>\n",
       "      <th>9</th>\n",
       "      <td>26.584553</td>\n",
       "      <td>28.7</td>\n",
       "    </tr>\n",
       "    <tr>\n",
       "      <th>10</th>\n",
       "      <td>17.014938</td>\n",
       "      <td>14.9</td>\n",
       "    </tr>\n",
       "    <tr>\n",
       "      <th>11</th>\n",
       "      <td>21.255470</td>\n",
       "      <td>25.8</td>\n",
       "    </tr>\n",
       "    <tr>\n",
       "      <th>12</th>\n",
       "      <td>22.796284</td>\n",
       "      <td>25.3</td>\n",
       "    </tr>\n",
       "    <tr>\n",
       "      <th>13</th>\n",
       "      <td>19.708303</td>\n",
       "      <td>22.1</td>\n",
       "    </tr>\n",
       "    <tr>\n",
       "      <th>14</th>\n",
       "      <td>29.453511</td>\n",
       "      <td>29.9</td>\n",
       "    </tr>\n",
       "    <tr>\n",
       "      <th>15</th>\n",
       "      <td>37.003022</td>\n",
       "      <td>29.3</td>\n",
       "    </tr>\n",
       "    <tr>\n",
       "      <th>16</th>\n",
       "      <td>26.310983</td>\n",
       "      <td>24.4</td>\n",
       "    </tr>\n",
       "    <tr>\n",
       "      <th>17</th>\n",
       "      <td>26.127318</td>\n",
       "      <td>20.4</td>\n",
       "    </tr>\n",
       "    <tr>\n",
       "      <th>18</th>\n",
       "      <td>17.065458</td>\n",
       "      <td>11.9</td>\n",
       "    </tr>\n",
       "    <tr>\n",
       "      <th>19</th>\n",
       "      <td>25.729004</td>\n",
       "      <td>33.6</td>\n",
       "    </tr>\n",
       "    <tr>\n",
       "      <th>20</th>\n",
       "      <td>20.799635</td>\n",
       "      <td>25.2</td>\n",
       "    </tr>\n",
       "    <tr>\n",
       "      <th>21</th>\n",
       "      <td>21.855944</td>\n",
       "      <td>28.4</td>\n",
       "    </tr>\n",
       "    <tr>\n",
       "      <th>22</th>\n",
       "      <td>17.715157</td>\n",
       "      <td>17.8</td>\n",
       "    </tr>\n",
       "    <tr>\n",
       "      <th>23</th>\n",
       "      <td>29.297005</td>\n",
       "      <td>38.1</td>\n",
       "    </tr>\n",
       "    <tr>\n",
       "      <th>24</th>\n",
       "      <td>17.676172</td>\n",
       "      <td>16.0</td>\n",
       "    </tr>\n",
       "    <tr>\n",
       "      <th>25</th>\n",
       "      <td>13.878126</td>\n",
       "      <td>14.7</td>\n",
       "    </tr>\n",
       "    <tr>\n",
       "      <th>26</th>\n",
       "      <td>31.322628</td>\n",
       "      <td>28.0</td>\n",
       "    </tr>\n",
       "    <tr>\n",
       "      <th>27</th>\n",
       "      <td>23.435348</td>\n",
       "      <td>21.5</td>\n",
       "    </tr>\n",
       "    <tr>\n",
       "      <th>28</th>\n",
       "      <td>45.583509</td>\n",
       "      <td>32.9</td>\n",
       "    </tr>\n",
       "    <tr>\n",
       "      <th>29</th>\n",
       "      <td>23.307831</td>\n",
       "      <td>24.5</td>\n",
       "    </tr>\n",
       "    <tr>\n",
       "      <th>30</th>\n",
       "      <td>13.461179</td>\n",
       "      <td>7.1</td>\n",
       "    </tr>\n",
       "    <tr>\n",
       "      <th>31</th>\n",
       "      <td>9.542101</td>\n",
       "      <td>5.6</td>\n",
       "    </tr>\n",
       "    <tr>\n",
       "      <th>32</th>\n",
       "      <td>14.723305</td>\n",
       "      <td>13.8</td>\n",
       "    </tr>\n",
       "    <tr>\n",
       "      <th>33</th>\n",
       "      <td>30.325794</td>\n",
       "      <td>30.2</td>\n",
       "    </tr>\n",
       "    <tr>\n",
       "      <th>34</th>\n",
       "      <td>22.615987</td>\n",
       "      <td>20.5</td>\n",
       "    </tr>\n",
       "    <tr>\n",
       "      <th>35</th>\n",
       "      <td>16.755190</td>\n",
       "      <td>15.4</td>\n",
       "    </tr>\n",
       "    <tr>\n",
       "      <th>36</th>\n",
       "      <td>35.180544</td>\n",
       "      <td>31.6</td>\n",
       "    </tr>\n",
       "    <tr>\n",
       "      <th>37</th>\n",
       "      <td>32.693397</td>\n",
       "      <td>32.3</td>\n",
       "    </tr>\n",
       "    <tr>\n",
       "      <th>38</th>\n",
       "      <td>23.987238</td>\n",
       "      <td>16.5</td>\n",
       "    </tr>\n",
       "    <tr>\n",
       "      <th>39</th>\n",
       "      <td>25.615618</td>\n",
       "      <td>29.4</td>\n",
       "    </tr>\n",
       "    <tr>\n",
       "      <th>40</th>\n",
       "      <td>16.281955</td>\n",
       "      <td>13.8</td>\n",
       "    </tr>\n",
       "    <tr>\n",
       "      <th>41</th>\n",
       "      <td>21.111637</td>\n",
       "      <td>19.1</td>\n",
       "    </tr>\n",
       "    <tr>\n",
       "      <th>42</th>\n",
       "      <td>16.901037</td>\n",
       "      <td>9.6</td>\n",
       "    </tr>\n",
       "    <tr>\n",
       "      <th>43</th>\n",
       "      <td>17.989197</td>\n",
       "      <td>11.8</td>\n",
       "    </tr>\n",
       "    <tr>\n",
       "      <th>44</th>\n",
       "      <td>24.336256</td>\n",
       "      <td>24.2</td>\n",
       "    </tr>\n",
       "    <tr>\n",
       "      <th>45</th>\n",
       "      <td>14.911417</td>\n",
       "      <td>17.4</td>\n",
       "    </tr>\n",
       "    <tr>\n",
       "      <th>46</th>\n",
       "      <td>51.171323</td>\n",
       "      <td>35.2</td>\n",
       "    </tr>\n",
       "    <tr>\n",
       "      <th>47</th>\n",
       "      <td>18.324504</td>\n",
       "      <td>20.8</td>\n",
       "    </tr>\n",
       "    <tr>\n",
       "      <th>48</th>\n",
       "      <td>7.092458</td>\n",
       "      <td>11.8</td>\n",
       "    </tr>\n",
       "  </tbody>\n",
       "</table>\n",
       "</div>"
      ],
      "text/plain": [
       "            0     1\n",
       "0   11.378639   8.5\n",
       "1   26.713993  31.9\n",
       "2   13.900411  19.5\n",
       "3   10.313390  17.4\n",
       "4   15.658104   9.0\n",
       "5   18.828901  14.8\n",
       "6   26.293754  25.8\n",
       "7   16.373435  22.8\n",
       "8   11.902976   8.6\n",
       "9   26.584553  28.7\n",
       "10  17.014938  14.9\n",
       "11  21.255470  25.8\n",
       "12  22.796284  25.3\n",
       "13  19.708303  22.1\n",
       "14  29.453511  29.9\n",
       "15  37.003022  29.3\n",
       "16  26.310983  24.4\n",
       "17  26.127318  20.4\n",
       "18  17.065458  11.9\n",
       "19  25.729004  33.6\n",
       "20  20.799635  25.2\n",
       "21  21.855944  28.4\n",
       "22  17.715157  17.8\n",
       "23  29.297005  38.1\n",
       "24  17.676172  16.0\n",
       "25  13.878126  14.7\n",
       "26  31.322628  28.0\n",
       "27  23.435348  21.5\n",
       "28  45.583509  32.9\n",
       "29  23.307831  24.5\n",
       "30  13.461179   7.1\n",
       "31   9.542101   5.6\n",
       "32  14.723305  13.8\n",
       "33  30.325794  30.2\n",
       "34  22.615987  20.5\n",
       "35  16.755190  15.4\n",
       "36  35.180544  31.6\n",
       "37  32.693397  32.3\n",
       "38  23.987238  16.5\n",
       "39  25.615618  29.4\n",
       "40  16.281955  13.8\n",
       "41  21.111637  19.1\n",
       "42  16.901037   9.6\n",
       "43  17.989197  11.8\n",
       "44  24.336256  24.2\n",
       "45  14.911417  17.4\n",
       "46  51.171323  35.2\n",
       "47  18.324504  20.8\n",
       "48   7.092458  11.8"
      ]
     },
     "execution_count": 170,
     "metadata": {},
     "output_type": "execute_result"
    }
   ],
   "source": [
    "pd.DataFrame([y_pred, y_test]).T"
   ]
  },
  {
   "cell_type": "markdown",
   "id": "08fdeb59",
   "metadata": {},
   "source": [
    "## Random Forest Classifer"
   ]
  },
  {
   "cell_type": "code",
   "execution_count": 36,
   "id": "69951269",
   "metadata": {},
   "outputs": [
    {
     "data": {
      "text/plain": [
       "RandomForestRegressor(max_depth=2, random_state=1)"
      ]
     },
     "execution_count": 36,
     "metadata": {},
     "output_type": "execute_result"
    }
   ],
   "source": [
    "from sklearn.ensemble import RandomForestRegressor\n",
    "from sklearn.datasets import make_regression\n",
    "model_random_forest = RandomForestRegressor(max_depth=2, random_state=1)\n",
    "model_random_forest.fit(X_train, y_train)"
   ]
  },
  {
   "cell_type": "code",
   "execution_count": 38,
   "id": "36e36bd1",
   "metadata": {},
   "outputs": [
    {
     "data": {
      "text/plain": [
       "array([1.16993871e-03, 8.89351771e-04, 7.70604079e-03, 9.56959108e-04,\n",
       "       1.54624037e-02, 9.66838517e-01, 2.48061934e-03, 0.00000000e+00,\n",
       "       0.00000000e+00, 4.61227728e-04, 3.19801671e-04, 1.83834481e-03,\n",
       "       1.87679510e-03])"
      ]
     },
     "execution_count": 38,
     "metadata": {},
     "output_type": "execute_result"
    }
   ],
   "source": [
    "model_random_forest.feature_importances_"
   ]
  },
  {
   "cell_type": "code",
   "execution_count": 39,
   "id": "ab4f08ee",
   "metadata": {},
   "outputs": [
    {
     "data": {
      "text/plain": [
       "<BarContainer object of 13 artists>"
      ]
     },
     "execution_count": 39,
     "metadata": {},
     "output_type": "execute_result"
    },
    {
     "data": {
      "image/png": "[encoded data removed]",
      "text/plain": [
       "<Figure size 432x288 with 1 Axes>"
      ]
     },
     "metadata": {
      "needs_background": "light"
     },
     "output_type": "display_data"
    }
   ],
   "source": [
    "plt.barh(X.columns, model_random_forest.feature_importances_)"
   ]
  },
  {
   "cell_type": "code",
   "execution_count": 44,
   "id": "90620c41",
   "metadata": {},
   "outputs": [
    {
     "data": {
      "text/plain": [
       "Text(0.5, 0, 'Random Forest Feature Importance')"
      ]
     },
     "execution_count": 44,
     "metadata": {},
     "output_type": "execute_result"
    },
    {
     "data": {
      "image/png": "[encoded data removed]",
      "text/plain": [
       "<Figure size 432x288 with 1 Axes>"
      ]
     },
     "metadata": {
      "needs_background": "light"
     },
     "output_type": "display_data"
    }
   ],
   "source": [
    "sorted_idx = model_random_forest.feature_importances_.argsort()\n",
    "plt.barh(X.columns[sorted_idx], model_random_forest.feature_importances_[sorted_idx])\n",
    "plt.xlabel(\"Random Forest Feature Importance\")"
   ]
  },
  {
   "cell_type": "code",
   "execution_count": 37,
   "id": "66ac62df",
   "metadata": {},
   "outputs": [],
   "source": [
    "y_pred = model_random_forest.predict(X_test)"
   ]
  },
  {
   "cell_type": "code",
   "execution_count": 173,
   "id": "42a135f5",
   "metadata": {},
   "outputs": [
    {
     "data": {
      "text/plain": [
       "4.503416708430629"
      ]
     },
     "execution_count": 173,
     "metadata": {},
     "output_type": "execute_result"
    }
   ],
   "source": [
    "mean_squared_error(y_test, y_pred,squared=False)"
   ]
  },
  {
   "cell_type": "code",
   "execution_count": 174,
   "id": "f86a64b5",
   "metadata": {},
   "outputs": [
    {
     "data": {
      "text/plain": [
       "0.2249628691021066"
      ]
     },
     "execution_count": 174,
     "metadata": {},
     "output_type": "execute_result"
    }
   ],
   "source": [
    "mean_absolute_percentage_error(y_test[y_pred!=y_pred[22]], y_pred[y_pred!=y_pred[22]])"
   ]
  },
  {
   "cell_type": "markdown",
   "id": "30053003",
   "metadata": {},
   "source": [
    "## XGBoost"
   ]
  },
  {
   "cell_type": "code",
   "execution_count": 175,
   "id": "db92c2ac",
   "metadata": {},
   "outputs": [],
   "source": [
    "from sklearn import datasets, ensemble"
   ]
  },
  {
   "cell_type": "code",
   "execution_count": 177,
   "id": "e5bc169b",
   "metadata": {},
   "outputs": [
    {
     "data": {
      "text/plain": [
       "GradientBoostingRegressor(random_state=0)"
      ]
     },
     "execution_count": 177,
     "metadata": {},
     "output_type": "execute_result"
    }
   ],
   "source": [
    "model_XGBoost = ensemble.GradientBoostingRegressor(random_state=0)\n",
    "model_XGBoost.fit(X_train, y_train)\n"
   ]
  },
  {
   "cell_type": "code",
   "execution_count": 160,
   "id": "1f9b4c3e",
   "metadata": {},
   "outputs": [],
   "source": [
    "y_pred = model_XGBoost.predict(X_test)"
   ]
  },
  {
   "cell_type": "code",
   "execution_count": 161,
   "id": "40cd4599",
   "metadata": {},
   "outputs": [
    {
     "data": {
      "text/plain": [
       "4.788157687731064"
      ]
     },
     "execution_count": 161,
     "metadata": {},
     "output_type": "execute_result"
    }
   ],
   "source": [
    "mean_squared_error(y_test, y_pred,squared=False)"
   ]
  },
  {
   "cell_type": "code",
   "execution_count": 162,
   "id": "df69d885",
   "metadata": {},
   "outputs": [
    {
     "data": {
      "text/plain": [
       "0.241234229613716"
      ]
     },
     "execution_count": 162,
     "metadata": {},
     "output_type": "execute_result"
    }
   ],
   "source": [
    "mean_absolute_percentage_error(y_test[y_pred!=y_pred[22]], y_pred[y_pred!=y_pred[22]])"
   ]
  },
  {
   "cell_type": "markdown",
   "id": "21653356",
   "metadata": {},
   "source": [
    "## Lasso"
   ]
  },
  {
   "cell_type": "code",
   "execution_count": 21,
   "id": "47c80700",
   "metadata": {},
   "outputs": [
    {
     "data": {
      "text/plain": [
       "Lasso(alpha=0.8, random_state=1)"
      ]
     },
     "execution_count": 21,
     "metadata": {},
     "output_type": "execute_result"
    }
   ],
   "source": [
    "from sklearn import linear_model\n",
    "model_lasso = linear_model.Lasso(alpha=0.8,random_state=1)\n",
    "model_lasso.fit(X_train, y_train)"
   ]
  },
  {
   "cell_type": "code",
   "execution_count": 27,
   "id": "a9f00c3a",
   "metadata": {},
   "outputs": [],
   "source": [
    "lasso_coef=model_lasso.coef_    "
   ]
  },
  {
   "cell_type": "code",
   "execution_count": 35,
   "id": "111e776c",
   "metadata": {},
   "outputs": [
    {
     "data": {
      "text/plain": [
       "array([ 5.67167672e-03,  0.00000000e+00, -8.14625525e-01, -0.00000000e+00,\n",
       "        0.00000000e+00,  5.82315773e+00,  0.00000000e+00,  0.00000000e+00,\n",
       "       -0.00000000e+00, -0.00000000e+00,  0.00000000e+00,  0.00000000e+00,\n",
       "       -7.15976866e-02])"
      ]
     },
     "execution_count": 35,
     "metadata": {},
     "output_type": "execute_result"
    }
   ],
   "source": [
    "lasso_coef"
   ]
  },
  {
   "cell_type": "code",
   "execution_count": 33,
   "id": "6617f046",
   "metadata": {},
   "outputs": [
    {
     "data": {
      "text/plain": [
       "Index(['Age', 'Weight', 'Height', 'Neck', 'Chest', 'Abdomen', 'Hip', 'Thigh',\n",
       "       'Knee', 'Ankle', 'Biceps', 'Forearm', 'Wrist'],\n",
       "      dtype='object')"
      ]
     },
     "execution_count": 33,
     "metadata": {},
     "output_type": "execute_result"
    }
   ],
   "source": [
    "X.columns"
   ]
  },
  {
   "cell_type": "code",
   "execution_count": 34,
   "id": "d70d115c",
   "metadata": {},
   "outputs": [
    {
     "data": {
      "image/png": "[encoded data removed]",
      "text/plain": [
       "<Figure size 432x288 with 1 Axes>"
      ]
     },
     "metadata": {
      "needs_background": "light"
     },
     "output_type": "display_data"
    }
   ],
   "source": [
    "plt.bar(X.columns, lasso_coef)\n",
    "plt.xticks(rotation=45)\n",
    "plt.show()"
   ]
  },
  {
   "cell_type": "code",
   "execution_count": 205,
   "id": "8eeb8794",
   "metadata": {},
   "outputs": [],
   "source": [
    "y_pred = model_lasso.predict(X_test)"
   ]
  },
  {
   "cell_type": "code",
   "execution_count": 206,
   "id": "ced0f855",
   "metadata": {},
   "outputs": [
    {
     "data": {
      "text/plain": [
       "4.426965653275816"
      ]
     },
     "execution_count": 206,
     "metadata": {},
     "output_type": "execute_result"
    }
   ],
   "source": [
    "mean_squared_error(y_test, y_pred,squared=False)"
   ]
  },
  {
   "cell_type": "code",
   "execution_count": 207,
   "id": "ff464400",
   "metadata": {},
   "outputs": [
    {
     "data": {
      "text/plain": [
       "0.21852796650368678"
      ]
     },
     "execution_count": 207,
     "metadata": {},
     "output_type": "execute_result"
    }
   ],
   "source": [
    "mean_absolute_percentage_error(y_test[y_pred!=y_pred[22]], y_pred[y_pred!=y_pred[22]])"
   ]
  },
  {
   "cell_type": "markdown",
   "id": "2a0022fb",
   "metadata": {},
   "source": [
    "## Ridge"
   ]
  },
  {
   "cell_type": "code",
   "execution_count": 212,
   "id": "17bb0875",
   "metadata": {},
   "outputs": [
    {
     "data": {
      "text/plain": [
       "Ridge(alpha=0.2)"
      ]
     },
     "execution_count": 212,
     "metadata": {},
     "output_type": "execute_result"
    }
   ],
   "source": [
    "model_lasso = linear_model.Ridge(alpha=0.2)\n",
    "model_lasso.fit(X_train, y_train)"
   ]
  },
  {
   "cell_type": "code",
   "execution_count": 213,
   "id": "739024e9",
   "metadata": {},
   "outputs": [],
   "source": [
    "y_pred = model_lasso.predict(X_test)"
   ]
  },
  {
   "cell_type": "code",
   "execution_count": 214,
   "id": "f99c7350",
   "metadata": {},
   "outputs": [
    {
     "data": {
      "text/plain": [
       "5.1762440853055605"
      ]
     },
     "execution_count": 214,
     "metadata": {},
     "output_type": "execute_result"
    }
   ],
   "source": [
    "mean_squared_error(y_test, y_pred,squared=False)"
   ]
  },
  {
   "cell_type": "code",
   "execution_count": 215,
   "id": "0767c14d",
   "metadata": {},
   "outputs": [
    {
     "data": {
      "text/plain": [
       "0.23946119183792844"
      ]
     },
     "execution_count": 215,
     "metadata": {},
     "output_type": "execute_result"
    }
   ],
   "source": [
    "mean_absolute_percentage_error(y_test[y_pred!=y_pred[22]], y_pred[y_pred!=y_pred[22]])"
   ]
  },
  {
   "cell_type": "code",
   "execution_count": null,
   "id": "0c28262b",
   "metadata": {},
   "outputs": [],
   "source": []
  }
 ],
 "metadata": {
  "kernelspec": {
   "display_name": "Python 3",
   "language": "python",
   "name": "python3"
  },
  "language_info": {
   "codemirror_mode": {
    "name": "ipython",
    "version": 3
   },
   "file_extension": ".py",
   "mimetype": "text/x-python",
   "name": "python",
   "nbconvert_exporter": "python",
   "pygments_lexer": "ipython3",
   "version": "3.8.8"
  }
 },
 "nbformat": 4,
 "nbformat_minor": 5
}